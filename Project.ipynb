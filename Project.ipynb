{
 "cells": [
  {
   "cell_type": "markdown",
   "metadata": {},
   "source": [
    "# 🩺 CNN Cancer Detection Using Histopathologic Images\n",
    "\n",
    "## 📕 [Link to Project Notebook](#) <!-- Update with actual link -->\n",
    "\n",
    "This project aims to perform binary image classification to identify metastatic cancer in small image patches taken from larger digital pathology scans. The objective is to assist pathologists in diagnosing cancer more accurately and efficiently by leveraging Convolutional Neural Networks (CNNs).\n",
    "\n",
    "## 📊 Dataset\n",
    "We use the Histopathologic Cancer Detection dataset, which includes image patches extracted from pathology scans. The dataset is publicly available on Kaggle. [Link to the Histopathologic Cancer Detection Dataset on Kaggle](https://www.kaggle.com/competitions/histopathologic-cancer-detection).\n",
    "\n",
    "## ✅ Table of Contents\n",
    "1. [Introduction](#introduction)\n",
    "2. [Problem Analysis](#problem-analysis)\n",
    "3. [Exploratory Data Analysis (EDA)](#exploratory-data-analysis-eda)\n",
    "    - [About the Data and Initial Data Cleaning](#about-the-data-and-initial-data-cleaning)\n",
    "    - [Data Distribution Analysis](#data-distribution-analysis)\n",
    "    - [Correlations Analysis](#correlations-analysis)\n",
    "    - [Outlier Analysis](#outlier-analysis)\n",
    "    - [Final Data Cleaning](#final-data-cleaning-and-outlier-removal)\n",
    "4. [Model Training and Evaluation](#model-training-and-evaluation)\n",
    "    - [Model Training](#model-training)\n",
    "    - [Evaluation](#evaluation)\n",
    "5. [Results and Discussion](#results-and-discussion)\n",
    "    - [Clustering Results](#clustering-results)\n",
    "    - [Visualization and Interpretation](#visualization-and-interpretation)\n",
    "    - [Discussion](#discussion)\n",
    "6. [Conclusion](#conclusion)\n",
    "7. [References](#references)\n",
    "\n",
    "## Introduction\n",
    "In this project, we aim to perform binary image classification using Convolutional Neural Networks (CNNs) to identify metastatic cancer in histopathologic images. The dataset used is derived from the PatchCamelyon (PCam) benchmark dataset, providing a straightforward yet clinically relevant task.\n",
    "\n",
    "## Problem Analysis\n",
    "### What is the Problem and Its Impact on Industry?\n",
    "The problem we are addressing is detecting metastatic cancer in histopathologic images. Accurate and efficient detection of cancerous tissues is crucial for timely diagnosis and treatment, significantly impacting patient outcomes.\n",
    "\n",
    "### Machine Learning Model and Rationale\n",
    "For this project, we will use Convolutional Neural Networks (CNNs), which are highly effective in image classification tasks. CNNs can automatically learn and extract features from images, making them suitable for identifying patterns in medical images.\n",
    "\n",
    "### Expected Outcome\n",
    "The expected outcome is to develop a CNN model that can accurately classify image patches as either cancerous or non-cancerous. This model will assist pathologists in diagnosing cancer, enhancing the accuracy and efficiency of cancer detection.\n",
    "\n"
   ]
  },
  {
   "cell_type": "markdown",
   "metadata": {},
   "source": [
    "## Exploratory Data Analysis (EDA) 📊\n",
    "\n",
    "### 1. Load the Data\n",
    "\n",
    "We begin by loading the necessary libraries and the dataset. The labels for the training images are loaded from the `_labels.csv` file."
   ]
  },
  {
   "cell_type": "code",
   "execution_count": null,
   "metadata": {},
   "outputs": [],
   "source": [
    "import pandas as pd\n",
    "import numpy as np\n",
    "import matplotlib.pyplot as plt\n",
    "import seaborn as sns\n",
    "from PIL import Image\n",
    "import os\n",
    "\n",
    "# Load the labels\n",
    "labels_df = pd.read_csv('train/_labels.csv')\n",
    "labels_df.head()"
   ]
  },
  {
   "cell_type": "markdown",
   "metadata": {},
   "source": [
    "### 2. Data Cleaning\n",
    "\n",
    "We check for any missing values in the labels dataframe and handle them if necessary. Fortunately, there are no missing values in our dataset."
   ]
  },
  {
   "cell_type": "code",
   "execution_count": null,
   "metadata": {},
   "outputs": [],
   "source": [
    "# Check for missing values and drop it\n",
    "print(labels_df.isnull().sum())\n",
    "labels_df.dropna(inplace=True)"
   ]
  },
  {
   "cell_type": "markdown",
   "metadata": {},
   "source": [
    "### 3. Data Distribution Analysis\n",
    "\n",
    "Next, we visualize the distribution of the labels to understand the balance of the dataset. The dataset contains a higher number of non-cancerous images compared to cancerous ones."
   ]
  },
  {
   "cell_type": "code",
   "execution_count": null,
   "metadata": {},
   "outputs": [],
   "source": [
    "# distribution of labels\n",
    "sns.countplot(x='label', data=labels_df)\n",
    "plt.title('Distribution of Labels')\n",
    "plt.show()"
   ]
  },
  {
   "cell_type": "markdown",
   "metadata": {},
   "source": [
    "### 4. Sample Images\n",
    "\n",
    "We load and display a few sample images from the dataset to get an idea of what the data looks like. Below are sample images for both classes (0: non-cancerous, 1: cancerous)."
   ]
  },
  {
   "cell_type": "code",
   "execution_count": null,
   "metadata": {},
   "outputs": [],
   "source": [
    "# Function to load and display sample images\n",
    "def display_sample_images(image_ids, label):\n",
    "    plt.figure(figsize=(10, 10))\n",
    "    for i, image_id in enumerate(image_ids):\n",
    "        image_path = f'train/{image_id}.tif'\n",
    "        image = Image.open(image_path)\n",
    "        plt.subplot(3, 3, i + 1)\n",
    "        plt.imshow(image)\n",
    "        plt.title(f'Label: {label}')\n",
    "        plt.axis('off')\n",
    "    plt.show()\n",
    "    \n",
    "# Display sample images with label 0\n",
    "sample_image_ids_0 = labels_df[labels_df['label'] == 0].sample(9)['id'].values\n",
    "display_sample_images(sample_image_ids_0, label=0)"
   ]
  },
  {
   "cell_type": "code",
   "execution_count": null,
   "metadata": {},
   "outputs": [],
   "source": [
    "# Display sample images with label 1\n",
    "sample_image_ids_1 = labels_df[labels_df['label'] == 1].sample(9)['id'].values\n",
    "display_sample_images(sample_image_ids_1, label=1)"
   ]
  },
  {
   "cell_type": "markdown",
   "metadata": {},
   "source": [
    "### 5. Data Cleaning Procedures\n",
    "\n",
    "We ensure that all images are of the same size (96x96 pixels) and RGB format. This step confirms the consistency of the image data."
   ]
  },
  {
   "cell_type": "code",
   "execution_count": null,
   "metadata": {},
   "outputs": [],
   "source": [
    "# Check the size and mode of a few sample images\n",
    "def check_image_properties(image_ids):\n",
    "    for image_id in image_ids:\n",
    "        image_path = f'train/{image_id}.tif'\n",
    "        image = Image.open(image_path)\n",
    "        print(f'Image ID: {image_id}, Size: {image.size}, Mode: {image.mode}')\n",
    "\n",
    "# We check a few properties of a few sample images\n",
    "sample_image_ids = labels_df['id'].sample(5).values\n",
    "check_image_properties(sample_image_ids)"
   ]
  },
  {
   "cell_type": "markdown",
   "metadata": {},
   "source": [
    "## References\n",
    "Veeling, B. S., Linmans, J., Winkens, J., Cohen, T., & Welling, M. (2018). Rotation Equivariant CNNs for Digital Pathology. arXiv:1806.03962.  \n",
    "Ehteshami Bejnordi, B., et al. (2017). Diagnostic Assessment of Deep Learning Algorithms for Detection of Lymph Node Metastases in Women With Breast Cancer. JAMA, 318(22), 2199–2210. doi:10.1001/jama.2017.14585  \n",
    "Kaggle. (n.d.). Histopathologic Cancer Detection. Retrieved from [https://www.kaggle.com/competitions/histopathologic-cancer-detection](https://www.kaggle.com/competitions/histopathologic-cancer-detection)."
   ]
  }
 ],
 "metadata": {
  "kernelspec": {
   "display_name": "Python 3",
   "language": "python",
   "name": "python3"
  },
  "language_info": {
   "codemirror_mode": {
    "name": "ipython",
    "version": 3
   },
   "file_extension": ".py",
   "mimetype": "text/x-python",
   "name": "python",
   "nbconvert_exporter": "python",
   "pygments_lexer": "ipython3",
   "version": "3.11.5"
  }
 },
 "nbformat": 4,
 "nbformat_minor": 2
}
