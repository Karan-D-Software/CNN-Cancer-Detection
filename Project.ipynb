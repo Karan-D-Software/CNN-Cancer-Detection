{
 "cells": [
  {
   "cell_type": "markdown",
   "metadata": {},
   "source": [
    "# 🏥 Histopathologic Cancer Detection\n",
    "\n",
    "## 📝 Problem Description\n",
    "The challenge is a binary image classification problem aimed at identifying metastatic cancer in small image patches taken from larger digital pathology scans. This competition, hosted on Kaggle, involves creating models to accurately detect the presence of tumor tissue in 32x32 pixel image patches. Early and precise detection of metastatic cancer is crucial for effective patient treatment and management.\n",
    "\n",
    "## 📊 Data Description\n",
    "The dataset for this competition is a modified version of the PatchCamelyon (PCam) benchmark dataset. It contains 96x96 pixel image patches extracted from larger whole-slide images, with each patch labeled as either containing metastatic tissue (positive class) or not (negative class). The dataset is divided into training and test sets, where the training set includes both the images and their labels. The structure and size of the dataset facilitate the training of convolutional neural networks (CNNs) for image classification tasks. The dataset can be accessed from [Kaggle](https://www.kaggle.com/competitions/histopathologic-cancer-detection)."
   ]
  },
  {
   "cell_type": "code",
   "execution_count": 5,
   "metadata": {},
   "outputs": [
    {
     "data": {
      "text/html": [
       "<div>\n",
       "<style scoped>\n",
       "    .dataframe tbody tr th:only-of-type {\n",
       "        vertical-align: middle;\n",
       "    }\n",
       "\n",
       "    .dataframe tbody tr th {\n",
       "        vertical-align: top;\n",
       "    }\n",
       "\n",
       "    .dataframe thead th {\n",
       "        text-align: right;\n",
       "    }\n",
       "</style>\n",
       "<table border=\"1\" class=\"dataframe\">\n",
       "  <thead>\n",
       "    <tr style=\"text-align: right;\">\n",
       "      <th></th>\n",
       "      <th>id</th>\n",
       "      <th>label</th>\n",
       "    </tr>\n",
       "  </thead>\n",
       "  <tbody>\n",
       "    <tr>\n",
       "      <th>0</th>\n",
       "      <td>f38a6374c348f90b587e046aac6079959adf3835</td>\n",
       "      <td>0</td>\n",
       "    </tr>\n",
       "    <tr>\n",
       "      <th>1</th>\n",
       "      <td>c18f2d887b7ae4f6742ee445113fa1aef383ed77</td>\n",
       "      <td>1</td>\n",
       "    </tr>\n",
       "    <tr>\n",
       "      <th>2</th>\n",
       "      <td>755db6279dae599ebb4d39a9123cce439965282d</td>\n",
       "      <td>0</td>\n",
       "    </tr>\n",
       "    <tr>\n",
       "      <th>3</th>\n",
       "      <td>bc3f0c64fb968ff4a8bd33af6971ecae77c75e08</td>\n",
       "      <td>0</td>\n",
       "    </tr>\n",
       "    <tr>\n",
       "      <th>4</th>\n",
       "      <td>068aba587a4950175d04c680d38943fd488d6a9d</td>\n",
       "      <td>0</td>\n",
       "    </tr>\n",
       "    <tr>\n",
       "      <th>...</th>\n",
       "      <td>...</td>\n",
       "      <td>...</td>\n",
       "    </tr>\n",
       "    <tr>\n",
       "      <th>220020</th>\n",
       "      <td>53e9aa9d46e720bf3c6a7528d1fca3ba6e2e49f6</td>\n",
       "      <td>0</td>\n",
       "    </tr>\n",
       "    <tr>\n",
       "      <th>220021</th>\n",
       "      <td>d4b854fe38b07fe2831ad73892b3cec877689576</td>\n",
       "      <td>1</td>\n",
       "    </tr>\n",
       "    <tr>\n",
       "      <th>220022</th>\n",
       "      <td>3d046cead1a2a5cbe00b2b4847cfb7ba7cf5fe75</td>\n",
       "      <td>0</td>\n",
       "    </tr>\n",
       "    <tr>\n",
       "      <th>220023</th>\n",
       "      <td>f129691c13433f66e1e0671ff1fe80944816f5a2</td>\n",
       "      <td>0</td>\n",
       "    </tr>\n",
       "    <tr>\n",
       "      <th>220024</th>\n",
       "      <td>a81f84895ddcd522302ddf34be02eb1b3e5af1cb</td>\n",
       "      <td>1</td>\n",
       "    </tr>\n",
       "  </tbody>\n",
       "</table>\n",
       "<p>220025 rows × 2 columns</p>\n",
       "</div>"
      ],
      "text/plain": [
       "                                              id  label\n",
       "0       f38a6374c348f90b587e046aac6079959adf3835      0\n",
       "1       c18f2d887b7ae4f6742ee445113fa1aef383ed77      1\n",
       "2       755db6279dae599ebb4d39a9123cce439965282d      0\n",
       "3       bc3f0c64fb968ff4a8bd33af6971ecae77c75e08      0\n",
       "4       068aba587a4950175d04c680d38943fd488d6a9d      0\n",
       "...                                          ...    ...\n",
       "220020  53e9aa9d46e720bf3c6a7528d1fca3ba6e2e49f6      0\n",
       "220021  d4b854fe38b07fe2831ad73892b3cec877689576      1\n",
       "220022  3d046cead1a2a5cbe00b2b4847cfb7ba7cf5fe75      0\n",
       "220023  f129691c13433f66e1e0671ff1fe80944816f5a2      0\n",
       "220024  a81f84895ddcd522302ddf34be02eb1b3e5af1cb      1\n",
       "\n",
       "[220025 rows x 2 columns]"
      ]
     },
     "execution_count": 5,
     "metadata": {},
     "output_type": "execute_result"
    }
   ],
   "source": [
    "# Here we can see our Data's Labels for the training data\n",
    "import pandas as pd\n",
    "\n",
    "train_df = pd.read_csv(\"./train/_labels.csv\")\n",
    "train_df"
   ]
  },
  {
   "cell_type": "markdown",
   "metadata": {},
   "source": [
    "## 🔗 Reference\n",
    "Veeling, B. S., Linmans, J., Winkens, J., Cohen, T., & Welling, M. (2018). Rotation Equivariant CNNs for Digital Pathology. arXiv:1806.03962."
   ]
  }
 ],
 "metadata": {
  "kernelspec": {
   "display_name": "Python 3",
   "language": "python",
   "name": "python3"
  },
  "language_info": {
   "codemirror_mode": {
    "name": "ipython",
    "version": 3
   },
   "file_extension": ".py",
   "mimetype": "text/x-python",
   "name": "python",
   "nbconvert_exporter": "python",
   "pygments_lexer": "ipython3",
   "version": "3.11.5"
  }
 },
 "nbformat": 4,
 "nbformat_minor": 2
}
